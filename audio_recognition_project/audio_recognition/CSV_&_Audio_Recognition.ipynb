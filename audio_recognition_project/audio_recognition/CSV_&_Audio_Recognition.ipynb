{
  "nbformat": 4,
  "nbformat_minor": 0,
  "metadata": {
    "colab": {
      "provenance": [],
      "authorship_tag": "ABX9TyPVEYDBFkUM1ZtMu6aBmzL6",
      "include_colab_link": true
    },
    "kernelspec": {
      "name": "python3",
      "display_name": "Python 3"
    },
    "language_info": {
      "name": "python"
    }
  },
  "cells": [
    {
      "cell_type": "markdown",
      "metadata": {
        "id": "view-in-github",
        "colab_type": "text"
      },
      "source": [
        "<a href=\"https://colab.research.google.com/github/Jhyron/DSP/blob/main/audio_recognition_project/audio_recognition/CSV_%26_Audio_Recognition.ipynb\" target=\"_parent\"><img src=\"https://colab.research.google.com/assets/colab-badge.svg\" alt=\"Open In Colab\"/></a>"
      ]
    },
    {
      "cell_type": "code",
      "execution_count": null,
      "metadata": {
        "colab": {
          "base_uri": "https://localhost:8080/"
        },
        "id": "bLOQAmHqGGoj",
        "outputId": "bf22951f-fbd7-4270-e05a-352d267e27c8"
      },
      "outputs": [
        {
          "output_type": "stream",
          "name": "stdout",
          "text": [
            "Final MFCC Matrix Shape:  (50, 1300)\n",
            "Final MFCC matrix saved to final_mfcc_matrix.csv\n"
          ]
        }
      ],
      "source": [
        "import librosa\n",
        "import numpy as np\n",
        "\n",
        "def extract_mfcc_coefficients(audio_path, total_coeffs=1300, n_mfcc=13):\n",
        "    \"\"\"\n",
        "    Extracts the first 'total_coeffs' MFCC coefficients from an audio file.\n",
        "    \"\"\"\n",
        "    try:\n",
        "        # Load audio file (librosa will automatically select the best backend)\n",
        "        y, sr = librosa.load(audio_path, sr=None)\n",
        "\n",
        "        # Compute MFCCs with 13 coefficients per frame\n",
        "        mfcc = librosa.feature.mfcc(y=y, sr=sr, n_mfcc=n_mfcc)\n",
        "\n",
        "        # Flatten to get a single-dimensional array and take the first 1300 coefficients\n",
        "        mfcc_flat = mfcc.T.flatten()[:total_coeffs]\n",
        "\n",
        "        # If the flattened array has less than 1300 coefficients, pad with zeros\n",
        "        if len(mfcc_flat) < total_coeffs:\n",
        "            mfcc_flat = np.pad(mfcc_flat, (0, total_coeffs - len(mfcc_flat)), mode='constant')\n",
        "\n",
        "        return mfcc_flat\n",
        "\n",
        "    except Exception as e:\n",
        "        print(f\"Error processing {audio_path}: {e}\")\n",
        "        return np.zeros(total_coeffs)  # Return a zero array if there's an error\n",
        "\n",
        "def generate_mfcc_matrix(num_files=50, total_coeffs=1300, file_prefix=\"hen_audio_\", file_suffix=\".wav\"):\n",
        "    \"\"\"\n",
        "    Loops through audio files, extracts MFCCs, and generates a matrix with shape (100, 1300).\n",
        "    \"\"\"\n",
        "    mfcc_matrix = np.zeros((num_files, total_coeffs))\n",
        "\n",
        "    for i in range(1, num_files + 1):\n",
        "        # Format file name as thevoiceECE_01.wav, thevoiceECE_02.wav, ..., thevoiceECE_100.wav\n",
        "        audio_path = f\"{file_prefix}{i:02}{file_suffix}\"\n",
        "        mfcc_coeffs = extract_mfcc_coefficients(audio_path, total_coeffs=total_coeffs)\n",
        "        mfcc_matrix[i - 1, :] = mfcc_coeffs\n",
        "\n",
        "    return mfcc_matrix\n",
        "\n",
        "def save_matrix_to_csv(matrix, output_path=\"final_mfcc_matrix.csv\"):\n",
        "    \"\"\"\n",
        "    Saves the MFCC matrix to a CSV file.\n",
        "    \"\"\"\n",
        "    np.savetxt(output_path, matrix, delimiter=',')\n",
        "    print(f\"Final MFCC matrix saved to {output_path}\")\n",
        "\n",
        "def main():\n",
        "    # Generate the MFCC matrix from 100 audio files\n",
        "    mfcc_matrix = generate_mfcc_matrix()\n",
        "\n",
        "    # Check matrix shape for confirmation\n",
        "    print(\"Final MFCC Matrix Shape: \", mfcc_matrix.shape)  # Should be (50, 1300)\n",
        "\n",
        "    # Save the matrix to a CSV file\n",
        "    save_matrix_to_csv(mfcc_matrix)\n",
        "\n",
        "if __name__ == \"__main__\":\n",
        "    main()\n"
      ]
    },
    {
      "cell_type": "code",
      "source": [
        "!pip install pysoundfile\n"
      ],
      "metadata": {
        "colab": {
          "base_uri": "https://localhost:8080/",
          "height": 236
        },
        "id": "160fwmtiNxn5",
        "outputId": "d856abb4-b76e-467d-ab45-f22ccb8f48fd"
      },
      "execution_count": null,
      "outputs": [
        {
          "output_type": "stream",
          "name": "stdout",
          "text": [
            "Collecting pysoundfile\n",
            "  Downloading PySoundFile-0.9.0.post1-py2.py3-none-any.whl.metadata (9.4 kB)\n",
            "Requirement already satisfied: cffi>=0.6 in /usr/local/lib/python3.10/dist-packages (from pysoundfile) (1.17.1)\n",
            "Requirement already satisfied: pycparser in /usr/local/lib/python3.10/dist-packages (from cffi>=0.6->pysoundfile) (2.22)\n",
            "Downloading PySoundFile-0.9.0.post1-py2.py3-none-any.whl (24 kB)\n",
            "Installing collected packages: pysoundfile\n",
            "Successfully installed pysoundfile-0.9.0.post1\n"
          ]
        },
        {
          "output_type": "display_data",
          "data": {
            "application/vnd.colab-display-data+json": {
              "pip_warning": {
                "packages": [
                  "soundfile"
                ]
              },
              "id": "726d7eb08ea64ee0afa546f9f22eda3f"
            }
          },
          "metadata": {}
        }
      ]
    },
    {
      "cell_type": "code",
      "source": [
        "import numpy as np\n",
        "from sklearn import svm\n",
        "import os\n",
        "import librosa\n",
        "import pathlib\n",
        "\n",
        "def extract():\n",
        "    x = True\n",
        "    #path to directory of the csv files\n",
        "    directory = \"G:\\\\My Drive\\\\Academics\\\\AC_24-25_1\\\\ECE 4 - Signals, Spectra, Signal Processing\\\\audio_recognition\"\n",
        "    with os.scandir(directory) as entries:\n",
        "        for entry in entries:\n",
        "            if entry.is_file():\n",
        "                filepath = entry.path\n",
        "                features = np.loadtxt(filepath,\n",
        "                                 delimiter=\",\", dtype=float)\n",
        "\n",
        "                filename = filepath.split('\\\\')\n",
        "                student = filename[6].split('.')[0]\n",
        "                if x:\n",
        "                    all_features = features\n",
        "                    all_class = np.full((100, 1), student)\n",
        "                    x = False\n",
        "                else:\n",
        "                    for i in features:\n",
        "                        all_features = np.append(all_features, [i], axis=0)\n",
        "                        all_class = np.append(all_class, student)\n",
        "    return all_features, all_class\n",
        "\n",
        "\n",
        "if name == 'main':\n",
        "    train_features, train_class = extract()\n",
        "    audio_classifier = svm.LinearSVC()\n",
        "    audio_classifier.fit(train_features, train_class)\n",
        "\n",
        "\n",
        "    #Cropping Activity\n",
        "\n",
        "    #path to the fresh sample file\n",
        "    path_to_audio = \"temporary.wav\"\n",
        "    audio, sample_rate = librosa.load(path_to_audio, sr=44100)\n",
        "    first_positive_index = np.where(audio > 0.12)[0]\n",
        "    # Check if there's a positive sample\n",
        "    if first_positive_index.size > 0:\n",
        "        # Crop the audio from the first positive sample to 44100 samples\n",
        "        start_index = first_positive_index[0]\n",
        "        cropped_audio = audio[start_index:start_index + 44100]\n",
        "        # Ensure we don't exceed the array length\n",
        "        if len(cropped_audio) < 44100:\n",
        "            print(\"Not enough samples to crop to 44100.\")\n",
        "        else:\n",
        "            # Write the cropped audio to a new file\n",
        "            sf.write(path_to_audio, cropped_audio, sample_rate, subtype='PCM_24')\n",
        "    else:\n",
        "        print(\"No positive samples found in the audio.\")\n",
        "\n",
        "\n",
        "    #CSV Activity\n",
        "    total_coeffs = 1300\n",
        "    n_mfcc = 13\n",
        "    y, sr = librosa.load(path_to_audio, sr=None)\n",
        "    mfcc = librosa.feature.mfcc(y=y, sr=sr, n_mfcc=n_mfcc)\n",
        "    mfcc_flat = mfcc.T.flatten()[:total_coeffs]\n",
        "    if len(mfcc_flat) < total_coeffs:\n",
        "        mfcc_flat = np.pad(mfcc_flat, (0, total_coeffs - len(mfcc_flat)), mode='constant')\n",
        "\n",
        "\n",
        "\n",
        "    student_name = audio_classifier.predict([mfcc_flat])\n",
        "    print(student_name)"
      ],
      "metadata": {
        "colab": {
          "base_uri": "https://localhost:8080/",
          "height": 211
        },
        "id": "j7TI4_nAWZYU",
        "outputId": "6c850bbf-6094-4aef-8850-5e2b4349e5b9"
      },
      "execution_count": null,
      "outputs": [
        {
          "output_type": "error",
          "ename": "NameError",
          "evalue": "name 'name' is not defined",
          "traceback": [
            "\u001b[0;31m---------------------------------------------------------------------------\u001b[0m",
            "\u001b[0;31mNameError\u001b[0m                                 Traceback (most recent call last)",
            "\u001b[0;32m<ipython-input-1-9d6698ee1cf7>\u001b[0m in \u001b[0;36m<cell line: 0>\u001b[0;34m()\u001b[0m\n\u001b[1;32m     29\u001b[0m \u001b[0;34m\u001b[0m\u001b[0m\n\u001b[1;32m     30\u001b[0m \u001b[0;34m\u001b[0m\u001b[0m\n\u001b[0;32m---> 31\u001b[0;31m \u001b[0;32mif\u001b[0m \u001b[0mname\u001b[0m \u001b[0;34m==\u001b[0m \u001b[0;34m'main'\u001b[0m\u001b[0;34m:\u001b[0m\u001b[0;34m\u001b[0m\u001b[0;34m\u001b[0m\u001b[0m\n\u001b[0m\u001b[1;32m     32\u001b[0m     \u001b[0mtrain_features\u001b[0m\u001b[0;34m,\u001b[0m \u001b[0mtrain_class\u001b[0m \u001b[0;34m=\u001b[0m \u001b[0mextract\u001b[0m\u001b[0;34m(\u001b[0m\u001b[0;34m)\u001b[0m\u001b[0;34m\u001b[0m\u001b[0;34m\u001b[0m\u001b[0m\n\u001b[1;32m     33\u001b[0m     \u001b[0maudio_classifier\u001b[0m \u001b[0;34m=\u001b[0m \u001b[0msvm\u001b[0m\u001b[0;34m.\u001b[0m\u001b[0mLinearSVC\u001b[0m\u001b[0;34m(\u001b[0m\u001b[0;34m)\u001b[0m\u001b[0;34m\u001b[0m\u001b[0;34m\u001b[0m\u001b[0m\n",
            "\u001b[0;31mNameError\u001b[0m: name 'name' is not defined"
          ]
        }
      ]
    }
  ]
}